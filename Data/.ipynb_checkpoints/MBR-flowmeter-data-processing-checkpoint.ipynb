{
 "cells": [
  {
   "cell_type": "markdown",
   "metadata": {},
   "source": [
    "<h1>Flowmeter & Tera Term</h1>"
   ]
  },
  {
   "cell_type": "markdown",
   "metadata": {},
   "source": [
    "Skripta za obradu podataka dobivenih iz Flowmetra preko Tere Terma u .txt formatu"
   ]
  },
  {
   "cell_type": "markdown",
   "metadata": {},
   "source": [
    "<h2>Upišite naziv datoteke koju je potrebno obraditi:</h2>"
   ]
  },
  {
   "cell_type": "code",
   "execution_count": 7,
   "metadata": {
    "collapsed": true
   },
   "outputs": [],
   "source": [
    "ime_datoteke_bez_ext = '3.4. SE_ZW1'"
   ]
  },
  {
   "cell_type": "markdown",
   "metadata": {},
   "source": [
    "<h2>Upišite željeni interval [u minutama] za izlazni excell dokument:</h2>"
   ]
  },
  {
   "cell_type": "code",
   "execution_count": 8,
   "metadata": {
    "collapsed": true
   },
   "outputs": [],
   "source": [
    "interval = 0.5"
   ]
  },
  {
   "cell_type": "markdown",
   "metadata": {},
   "source": [
    "<H1>[Ne diraj]</H1>"
   ]
  },
  {
   "cell_type": "code",
   "execution_count": 9,
   "metadata": {},
   "outputs": [
    {
     "name": "stdout",
     "output_type": "stream",
     "text": [
      "         Time, min  Flow, mL/min  Pressure, bar  Temp., °C\n",
      "-0.0      0.241667     -0.524744       0.117120  23.834485\n",
      " 1.0      0.741667     36.816449      -0.072876  23.687602\n",
      " 2.0      1.241667     36.202314      -0.069620  23.228939\n",
      " 3.0      1.741667     36.226351      -0.070389  22.851104\n",
      " 4.0      2.241667     36.346541      -0.071758  22.552384\n",
      " 5.0      2.741667     35.924734      -0.071212  22.314870\n",
      " 6.0      3.241667     36.497566      -0.074676  22.097044\n",
      " 7.0      3.741667     34.945409      -0.068201  21.932512\n",
      " 8.0      4.241667     34.552827      -0.068407  21.797531\n",
      " 9.0      4.741667     34.435028      -0.068822  21.679165\n",
      " 10.0     5.241667     34.306569      -0.068948  21.580461\n",
      " 11.0     5.741667     34.193576      -0.068991  21.507552\n",
      " 12.0     6.241667     34.062588      -0.069108  21.430911\n",
      " 13.0     6.741667     34.021835      -0.070200  21.368075\n",
      " 14.0     7.241667     33.923537      -0.070801  21.310778\n",
      " 15.0     7.741667     34.536959      -0.075601  21.243167\n",
      " 16.0     8.241667     33.806830      -0.071439  21.207609\n",
      " 17.0     8.741667     32.711598      -0.067212  21.189807\n",
      " 18.0     9.241667     31.677123      -0.062826  21.170260\n",
      " 19.0     9.741667     32.319802      -0.066681  21.107123\n",
      " 20.0    10.241667     22.580748      -0.031834  21.109941\n",
      " 21.0    10.741667    -29.764367       0.172084  21.309252\n",
      " 22.0    11.241667    -20.162515       0.139108  21.536746\n",
      " 23.0    11.741667     29.786248      -0.049730  21.704938\n",
      " 24.0    12.241667     28.894940      -0.046322  21.680543\n",
      " 25.0    12.741667     29.068908      -0.051545  21.571063\n",
      " 26.0    13.241667     28.700509      -0.050755  21.480746\n",
      " 27.0    13.741667     28.588960      -0.051257  21.411917\n",
      " 28.0    14.241667     28.820137      -0.053743  21.366617\n",
      " 29.0    14.741667     28.792011      -0.054523  21.316019\n",
      "...            ...           ...            ...        ...\n",
      " 434.0  217.241667     25.551395      -0.095551  23.214400\n",
      " 435.0  217.741667     25.487678      -0.096400  23.212252\n",
      " 436.0  218.241667     25.319182      -0.096868  23.220719\n",
      " 437.0  218.741667     21.140142      -0.083397  23.229567\n",
      " 438.0  219.241667    -37.142397       0.201854  23.424866\n",
      " 439.0  219.741667    -32.735193       0.188786  23.630758\n",
      " 440.0  220.241667     30.319441      -0.082394  23.737200\n",
      " 441.0  220.741667     30.212113      -0.104752  23.717950\n",
      " 442.0  221.241667     29.599914      -0.108396  23.631983\n",
      " 443.0  221.741667     28.632429      -0.107039  23.558067\n",
      " 444.0  222.241667     25.291706      -0.085154  23.512130\n",
      " 445.0  222.741667     24.963644      -0.084523  23.476958\n",
      " 446.0  223.241667     24.850210      -0.083822  23.445483\n",
      " 447.0  223.741667     24.792420      -0.086703  23.421200\n",
      " 448.0  224.241667     24.608940      -0.086576  23.403171\n",
      " 449.0  224.741667     24.463737      -0.086465  23.383386\n",
      " 450.0  225.241667     24.325694      -0.086848  23.369571\n",
      " 451.0  225.741667     24.682153      -0.091545  23.354317\n",
      " 452.0  226.241667     24.604094      -0.091200  23.345466\n",
      " 453.0  226.741667     23.525627      -0.083239  23.350000\n",
      " 454.0  227.241667     23.703768      -0.086290  23.345150\n",
      " 455.0  227.741667     22.905943      -0.079944  23.291780\n",
      " 456.0  228.241667     23.181376      -0.084167  23.340000\n",
      " 457.0  228.741667     22.877462      -0.083702  23.340000\n",
      " 458.0  229.241667     23.080358      -0.085500  23.340683\n",
      " 459.0  229.741667     22.936681      -0.087399  23.345983\n",
      " 460.0  230.241667    -29.994797       0.165354  23.489886\n",
      " 461.0  230.741667     -8.706898       0.099420  23.696162\n",
      " 462.0  231.241667      2.811092       0.059632  23.783401\n",
      " 463.0  231.650000     -1.270369       0.073654  23.838760\n",
      "\n",
      "[464 rows x 4 columns]\n"
     ]
    }
   ],
   "source": [
    "import pandas as pd\n",
    "import re\n",
    "import numpy as np\n",
    "import seaborn as sb\n",
    "\n",
    "ime_datoteke = ime_datoteke_bez_ext + '.txt'\n",
    "#Broj sekunda između izlaznih rezultata (male poteškoće kod puno krivih rezultata \n",
    "#(čije je trajanje bilo veće od sekunde))\n",
    "interval_u_sekundama = 60*interval  \n",
    "data = []\n",
    "errors =[]\n",
    "\n",
    "with open(ime_datoteke) as f:\n",
    "    read_data = f.read()\n",
    "    data = read_data.split('\\n')\n",
    "    clean_data = []\n",
    "    for line in data:\n",
    "        m_data = re.findall(r\".\\d\\d\\d\\.\\d\\d\", line, flags=0)\n",
    "        timestamp = re.findall(r\"\\d\\d\\:\\d\\d\\:\\d\\d\", line, flags=0)\n",
    "        if len(m_data) ==6 and len(timestamp) == 1:\n",
    "            flux = m_data[2]\n",
    "            temp = m_data[1]\n",
    "            press = m_data[0]\n",
    "            time = timestamp[0]\n",
    "            try:\n",
    "                clean_data.append([pd.Timestamp(time), float(flux), float(press)*0.0689475729, float(temp)])\n",
    "            except:\n",
    "                pass\n",
    "\n",
    "\n",
    "df = pd.DataFrame(clean_data, columns=['Time, min','Flow, mL/min','Pressure, bar', 'Temp., °C'])\n",
    "df['Time, min'] = df['Time, min'] - df['Time, min'][0]\n",
    "df['Time, min'] = df['Time, min'].dt.total_seconds()/60\n",
    "df['Flux, L/m3h']= \n",
    "#df = df.set_index('Time, s').groupby(['Time, s']).mean().dropna(how='all')\n",
    "df = df.groupby(['Time, min'],as_index=False).mean().dropna(how='all')\n",
    "#\n",
    "df = df.groupby(np.arange(len(df))//interval_u_sekundama).mean()\n",
    "print(df)\n",
    " \n",
    "writer = pd.ExcelWriter(ime_datoteke_bez_ext + '.xlsx')\n",
    "df.to_excel(writer, 'Sheet1')\n",
    "writer.save()\n",
    "\n"
   ]
  },
  {
   "cell_type": "code",
   "execution_count": null,
   "metadata": {
    "collapsed": true
   },
   "outputs": [],
   "source": []
  },
  {
   "cell_type": "code",
   "execution_count": null,
   "metadata": {
    "collapsed": true
   },
   "outputs": [],
   "source": []
  }
 ],
 "metadata": {
  "kernelspec": {
   "display_name": "Python 3",
   "language": "python",
   "name": "python3"
  },
  "language_info": {
   "codemirror_mode": {
    "name": "ipython",
    "version": 3
   },
   "file_extension": ".py",
   "mimetype": "text/x-python",
   "name": "python",
   "nbconvert_exporter": "python",
   "pygments_lexer": "ipython3",
   "version": "3.6.3"
  }
 },
 "nbformat": 4,
 "nbformat_minor": 2
}
