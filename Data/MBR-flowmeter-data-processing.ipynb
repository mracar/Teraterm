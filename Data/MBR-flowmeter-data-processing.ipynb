{
 "cells": [
  {
   "cell_type": "markdown",
   "metadata": {},
   "source": [
    "# Flowmeter data processing"
   ]
  },
  {
   "cell_type": "markdown",
   "metadata": {},
   "source": [
    "Takes data from flowmeter saved with Teraterm (eg. od a line \"2018-10-21, 03:56:44, +000.48 +023.28 +008.19\") and converts it to an excel document vith columns: 'Time, min','Flow, mL/min','Pressure, bar', 'Temp., °C', 'Flux, L/m3h', and 'Flux_cor_temp, L/m3h'."
   ]
  },
  {
   "cell_type": "markdown",
   "metadata": {},
   "source": [
    "Enter the filename:"
   ]
  },
  {
   "cell_type": "code",
   "execution_count": 9,
   "metadata": {
    "collapsed": true
   },
   "outputs": [],
   "source": [
    "fileName = 'test_data'"
   ]
  },
  {
   "cell_type": "markdown",
   "metadata": {},
   "source": [
    "Define how long the time intervale in s (not smaller than 1 s) between mesurements should be:"
   ]
  },
  {
   "cell_type": "code",
   "execution_count": 10,
   "metadata": {
    "collapsed": true
   },
   "outputs": [],
   "source": [
    "intervalS = 5"
   ]
  },
  {
   "cell_type": "markdown",
   "metadata": {},
   "source": [
    "Memb"
   ]
  },
  {
   "cell_type": "code",
   "execution_count": 11,
   "metadata": {
    "collapsed": true
   },
   "outputs": [],
   "source": [
    "area = 0.046"
   ]
  },
  {
   "cell_type": "markdown",
   "metadata": {},
   "source": [
    "Data processing"
   ]
  },
  {
   "cell_type": "code",
   "execution_count": 17,
   "metadata": {},
   "outputs": [
    {
     "data": {
      "text/html": [
       "<div>\n",
       "<style>\n",
       "    .dataframe thead tr:only-child th {\n",
       "        text-align: right;\n",
       "    }\n",
       "\n",
       "    .dataframe thead th {\n",
       "        text-align: left;\n",
       "    }\n",
       "\n",
       "    .dataframe tbody tr th {\n",
       "        vertical-align: top;\n",
       "    }\n",
       "</style>\n",
       "<table border=\"1\" class=\"dataframe\">\n",
       "  <thead>\n",
       "    <tr style=\"text-align: right;\">\n",
       "      <th></th>\n",
       "      <th>Time, min</th>\n",
       "      <th>Flow, mL/min</th>\n",
       "      <th>Pressure, bar</th>\n",
       "      <th>Temp., °C</th>\n",
       "      <th>Flux, L/m3h</th>\n",
       "      <th>Flux_cor_temp, L/m3h</th>\n",
       "    </tr>\n",
       "  </thead>\n",
       "  <tbody>\n",
       "    <tr>\n",
       "      <th>0</th>\n",
       "      <td>0.000000</td>\n",
       "      <td>9.29</td>\n",
       "      <td>0.033784</td>\n",
       "      <td>21.93</td>\n",
       "      <td>12.117391</td>\n",
       "      <td>12.525587</td>\n",
       "    </tr>\n",
       "    <tr>\n",
       "      <th>1</th>\n",
       "      <td>0.083333</td>\n",
       "      <td>9.29</td>\n",
       "      <td>0.033784</td>\n",
       "      <td>21.94</td>\n",
       "      <td>12.117391</td>\n",
       "      <td>12.522356</td>\n",
       "    </tr>\n",
       "    <tr>\n",
       "      <th>2</th>\n",
       "      <td>0.166667</td>\n",
       "      <td>9.29</td>\n",
       "      <td>0.033784</td>\n",
       "      <td>21.94</td>\n",
       "      <td>12.117391</td>\n",
       "      <td>12.522356</td>\n",
       "    </tr>\n",
       "    <tr>\n",
       "      <th>3</th>\n",
       "      <td>0.250000</td>\n",
       "      <td>9.31</td>\n",
       "      <td>0.033784</td>\n",
       "      <td>21.94</td>\n",
       "      <td>12.143478</td>\n",
       "      <td>12.549315</td>\n",
       "    </tr>\n",
       "    <tr>\n",
       "      <th>4</th>\n",
       "      <td>0.350000</td>\n",
       "      <td>9.31</td>\n",
       "      <td>0.033784</td>\n",
       "      <td>21.94</td>\n",
       "      <td>12.143478</td>\n",
       "      <td>12.549315</td>\n",
       "    </tr>\n",
       "  </tbody>\n",
       "</table>\n",
       "</div>"
      ],
      "text/plain": [
       "   Time, min  Flow, mL/min  Pressure, bar  Temp., °C  Flux, L/m3h  \\\n",
       "0   0.000000          9.29       0.033784      21.93    12.117391   \n",
       "1   0.083333          9.29       0.033784      21.94    12.117391   \n",
       "2   0.166667          9.29       0.033784      21.94    12.117391   \n",
       "3   0.250000          9.31       0.033784      21.94    12.143478   \n",
       "4   0.350000          9.31       0.033784      21.94    12.143478   \n",
       "\n",
       "   Flux_cor_temp, L/m3h  \n",
       "0             12.525587  \n",
       "1             12.522356  \n",
       "2             12.522356  \n",
       "3             12.549315  \n",
       "4             12.549315  "
      ]
     },
     "execution_count": 17,
     "metadata": {},
     "output_type": "execute_result"
    }
   ],
   "source": [
    "import pandas as pd\n",
    "import re\n",
    "import numpy as np\n",
    "import seaborn as sb\n",
    "\n",
    "file = fileName + '.txt'  \n",
    "data = []\n",
    "errors =[]\n",
    "\n",
    "with open(file) as f:\n",
    "    read_data = f.read()\n",
    "    data = read_data.split('\\n')\n",
    "    clean_data = []\n",
    "    for line in data:\n",
    "        m_data = re.findall(r\".\\d\\d\\d\\.\\d\\d\", line, flags=0)\n",
    "        timestamp = re.findall(r\"\\d\\d\\d\\d-\\d\\d-\\d\\d, \\d\\d\\:\\d\\d\\:\\d\\d\", line, flags=0)\n",
    "        #eg. \"2018-10-21, 03:58:20\"\n",
    "        if len(m_data) == 3 and len(timestamp) == 1:\n",
    "            press,temp,flux = m_data\n",
    "            time = timestamp[0]\n",
    "            try:\n",
    "                clean_data.append([pd.Timestamp(time), float(flux), float(press)*0.0689475729, float(temp)])\n",
    "            except:\n",
    "                errors.append(timestamp + m_data)\n",
    "                pass\n",
    "\n",
    "\n",
    "df = pd.DataFrame(clean_data, columns=['Time, min','Flow, mL/min','Pressure, bar', 'Temp., °C'])\n",
    "df['Time, min'] = df['Time, min'] - df['Time, min'][0]\n",
    "df['Time, min'] = df['Time, min'].dt.total_seconds()/60\n",
    "df['Flux, L/m3h']= df['Flow, mL/min']*0.001*60/area\n",
    "temp = df['Temp., °C']\n",
    "\n",
    "def temp_conv(temp):\n",
    "    #corects the flux for viscosity with an empirical function\n",
    "    return (1.79934+temp*(-0.04316)+temp*temp*0.000376037)\n",
    "\n",
    "df['Flux_cor_temp, L/m3h'] = df['Flux, L/m3h']*temp_conv(temp)\n",
    "df = df.groupby(['Time, min'],as_index=False).mean().dropna(how='all')\n",
    "#df = df.groupby(np.arange(len(df))//intervalS).mean()\n",
    " \n",
    "writer = pd.ExcelWriter(fileName + '.xlsx')\n",
    "df.to_excel(writer, 'Sheet1')\n",
    "writer.save()\n",
    "df.head()"
   ]
  }
 ],
 "metadata": {
  "kernelspec": {
   "display_name": "Python 3",
   "language": "python",
   "name": "python3"
  },
  "language_info": {
   "codemirror_mode": {
    "name": "ipython",
    "version": 3
   },
   "file_extension": ".py",
   "mimetype": "text/x-python",
   "name": "python",
   "nbconvert_exporter": "python",
   "pygments_lexer": "ipython3",
   "version": "3.6.3"
  }
 },
 "nbformat": 4,
 "nbformat_minor": 2
}
