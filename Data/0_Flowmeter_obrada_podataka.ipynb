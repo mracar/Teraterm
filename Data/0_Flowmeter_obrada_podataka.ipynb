{
 "cells": [
  {
   "cell_type": "markdown",
   "metadata": {},
   "source": [
    "<h1>Flowmeter & Tera Term</h1>"
   ]
  },
  {
   "cell_type": "markdown",
   "metadata": {},
   "source": [
    "Skripta za obradu podataka dobivenih iz Flowmetra preko Tere Terma u .txt formatu"
   ]
  },
  {
   "cell_type": "markdown",
   "metadata": {},
   "source": [
    "<h2>Upišite naziv datoteke koju je potrebno obraditi:</h2>"
   ]
  },
  {
   "cell_type": "code",
   "execution_count": 63,
   "metadata": {
    "collapsed": true
   },
   "outputs": [],
   "source": [
    "ime_datoteke_bez_ext = 'asinc mode'"
   ]
  },
  {
   "cell_type": "markdown",
   "metadata": {},
   "source": [
    "<h2>Upišite željeni interval [u minutama] za izlazni excell dokument:</h2>"
   ]
  },
  {
   "cell_type": "code",
   "execution_count": 64,
   "metadata": {
    "collapsed": true
   },
   "outputs": [],
   "source": [
    "interval = 5"
   ]
  },
  {
   "cell_type": "markdown",
   "metadata": {},
   "source": [
    "<H1>[Ne diraj]</H1>"
   ]
  },
  {
   "cell_type": "code",
   "execution_count": 65,
   "metadata": {},
   "outputs": [
    {
     "name": "stdout",
     "output_type": "stream",
     "text": [
      "   Time, min  Flow, mL/min  Pressure, bar  Temp., °C\n",
      "0   2.502333     22.269380       0.086030  24.384063\n",
      "1   7.512944     21.558726       0.085655  24.519994\n",
      "2  10.800000     21.617043       0.085824  24.576429\n"
     ]
    }
   ],
   "source": [
    "import pandas as pd\n",
    "import re\n",
    "import numpy as np\n",
    "import seaborn as sb\n",
    "\n",
    "ime_datoteke = ime_datoteke_bez_ext + '.txt'\n",
    "#Broj sekunda između izlaznih rezultata (male poteškoće kod puno krivih rezultata \n",
    "#(čije je trajanje bilo veće od sekunde))\n",
    "interval_u_sekundama = 60*interval  \n",
    "data = []\n",
    "errors =[]\n",
    "\n",
    "with open(ime_datoteke) as f:\n",
    "    read_data = f.read()\n",
    "    data = read_data.split('\\n')\n",
    "    clean_data = []\n",
    "    for line in data:\n",
    "        m_data = re.findall(r\".\\d\\d\\d\\.\\d\\d\", line, flags=0)\n",
    "        timestamp = re.findall(r\"\\d\\d\\:\\d\\d\\:\\d\\d\", line, flags=0)\n",
    "        if len(m_data) ==6 and len(timestamp) == 1:\n",
    "            flux = m_data[2]\n",
    "            temp = m_data[1]\n",
    "            press = m_data[0]\n",
    "            time = timestamp[0]\n",
    "            try:\n",
    "                clean_data.append([pd.Timestamp(time), float(flux), float(press)*0.0689475729, float(temp)])\n",
    "            except:\n",
    "                pass\n",
    "\n",
    "\n",
    "df = pd.DataFrame(clean_data, columns=['Time, min','Flow, mL/min','Pressure, bar', 'Temp., °C'])\n",
    "df['Time, min'] = df['Time, min'] - df['Time, min'][0]\n",
    "df['Time, min'] = df['Time, min'].dt.total_seconds()/60\n",
    "#df = df.set_index('Time, s').groupby(['Time, s']).mean().dropna(how='all')\n",
    "df = df.groupby(['Time, min'],as_index=False).mean().dropna(how='all')\n",
    "#\n",
    "df = df.groupby(np.arange(len(df))//interval_u_sekundama).mean()\n",
    "print(df)\n",
    " \n",
    "writer = pd.ExcelWriter(ime_datoteke_bez_ext + '.xlsx')\n",
    "df.to_excel(writer, 'Sheet1')\n",
    "writer.save()\n",
    "\n"
   ]
  },
  {
   "cell_type": "code",
   "execution_count": null,
   "metadata": {
    "collapsed": true
   },
   "outputs": [],
   "source": []
  },
  {
   "cell_type": "code",
   "execution_count": null,
   "metadata": {
    "collapsed": true
   },
   "outputs": [],
   "source": []
  }
 ],
 "metadata": {
  "kernelspec": {
   "display_name": "Python 3",
   "language": "python",
   "name": "python3"
  },
  "language_info": {
   "codemirror_mode": {
    "name": "ipython",
    "version": 3
   },
   "file_extension": ".py",
   "mimetype": "text/x-python",
   "name": "python",
   "nbconvert_exporter": "python",
   "pygments_lexer": "ipython3",
   "version": "3.6.3"
  }
 },
 "nbformat": 4,
 "nbformat_minor": 2
}
